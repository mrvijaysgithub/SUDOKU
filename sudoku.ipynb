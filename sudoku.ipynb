{
 "cells": [
  {
   "cell_type": "code",
   "execution_count": 1,
   "id": "98c8b9cd",
   "metadata": {},
   "outputs": [],
   "source": [
    "def fun(ind,mat):\n",
    "    zero_index = []\n",
    "    balance_elements = [1,2,3,4,5,6,7,8,9]\n",
    "    row,col = ind\n",
    "    for i in range(row,row+3):\n",
    "        for j in range(col,col+3):\n",
    "            if mat[i][j] == 0:\n",
    "                zero_index.append((i,j))\n",
    "            else:\n",
    "                balance_elements.remove(mat[i][j])\n",
    "    return zero_index,balance_elements"
   ]
  },
  {
   "cell_type": "code",
   "execution_count": 2,
   "id": "b7fac3be",
   "metadata": {},
   "outputs": [],
   "source": [
    "def find_empty(mat):\n",
    "    empty_index = []\n",
    "    balance_elements = []\n",
    "    for i in start_index:\n",
    "        a,b = fun(i,mat)\n",
    "        empty_index.append(a)\n",
    "        balance_elements.append(b)\n",
    "    return (empty_index,balance_elements)"
   ]
  },
  {
   "cell_type": "code",
   "execution_count": 3,
   "id": "e723809e",
   "metadata": {},
   "outputs": [],
   "source": [
    "def rearrange(balance_numbers,empty_index,mat):\n",
    "    i = 0\n",
    "    ticket = 0\n",
    "    full_balance_number =[[x for x in balance_numbers[o]] for o in range(9)]\n",
    "    while(i<9):\n",
    "\n",
    "\n",
    "\n",
    "        for num in full_balance_number[i]:\n",
    "            posible = []\n",
    "            flag = 0\n",
    "            ticket = 0\n",
    "\n",
    "\n",
    "            # checking\n",
    "            for row,col in empty_index[i]:\n",
    "#                 print(mat[row],num)\n",
    "                if num in mat[row]:\n",
    "                    continue\n",
    "                else:\n",
    "                    for ind in range(9):\n",
    "                        if mat[ind][col] == num:\n",
    "                            break\n",
    "                    else:\n",
    "                        posible.append((row,col,num))\n",
    "                        if len(posible)>1:\n",
    "                            flag = 1\n",
    "                            break\n",
    "                    if flag :\n",
    "                        break\n",
    "            # end of checking\n",
    "\n",
    "\n",
    "            # replaceing \n",
    "            if len(posible)==1 and mat[posible[0][0]][posible[0][1]] == 0:\n",
    "                mat[posible[0][0]][posible[0][1]] =  posible[0][2]\n",
    "                balance_numbers[i].remove(posible[0][2])\n",
    "                empty_index[i].remove((posible[0][0],posible[0][1]))\n",
    "                ticket = 1\n",
    "            # End of repalceing\n",
    "\n",
    "\n",
    "        if not ticket:\n",
    "            i+=1\n",
    "    return mat"
   ]
  },
  {
   "cell_type": "code",
   "execution_count": 4,
   "id": "abb5222e",
   "metadata": {},
   "outputs": [],
   "source": [
    "mat = [\n",
    "[0,0,0,2,6,0,7,0,1],\n",
    "[6,8,0,0,7,0,0,9,0],\n",
    "[1,9,0,0,0,4,5,0,0],\n",
    "[8,2,0,1,0,0,0,4,0],\n",
    "[0,0,4,6,0,2,9,0,0],\n",
    "[0,5,0,0,0,3,0,2,8],\n",
    "[0,0,9,3,0,0,0,7,4],\n",
    "[0,4,0,0,5,0,0,3,6],\n",
    "[7,0,3,0,1,8,0,0,0]]"
   ]
  },
  {
   "cell_type": "code",
   "execution_count": 5,
   "id": "b2ee71bc",
   "metadata": {},
   "outputs": [],
   "source": [
    "start_index = [(0,0),(0,3),(0,6),(3,0),(3,3),(3,6),(6,0),(6,3),(6,6)]"
   ]
  },
  {
   "cell_type": "code",
   "execution_count": 6,
   "id": "3afdf02d",
   "metadata": {},
   "outputs": [],
   "source": [
    "empty_index, balance_numbers = find_empty(mat)\n",
    "while(True):\n",
    "    mat = rearrange(balance_numbers,empty_index,mat)\n",
    "    empty_index, balance_numbers = find_empty(mat)\n",
    "    for i in empty_index:\n",
    "        if i != []:\n",
    "            break\n",
    "    else:\n",
    "        break"
   ]
  },
  {
   "cell_type": "code",
   "execution_count": 7,
   "id": "8808446f",
   "metadata": {},
   "outputs": [
    {
     "data": {
      "text/plain": [
       "[[4, 3, 5, 2, 6, 9, 7, 8, 1],\n",
       " [6, 8, 2, 5, 7, 1, 4, 9, 3],\n",
       " [1, 9, 7, 8, 3, 4, 5, 6, 2],\n",
       " [8, 2, 6, 1, 9, 5, 3, 4, 7],\n",
       " [3, 7, 4, 6, 8, 2, 9, 1, 5],\n",
       " [9, 5, 1, 7, 4, 3, 6, 2, 8],\n",
       " [5, 1, 9, 3, 2, 6, 8, 7, 4],\n",
       " [2, 4, 8, 9, 5, 7, 1, 3, 6],\n",
       " [7, 6, 3, 4, 1, 8, 2, 5, 9]]"
      ]
     },
     "execution_count": 7,
     "metadata": {},
     "output_type": "execute_result"
    }
   ],
   "source": [
    "mat"
   ]
  },
  {
   "cell_type": "code",
   "execution_count": 2,
   "id": "235fc56c",
   "metadata": {},
   "outputs": [
    {
     "name": "stdout",
     "output_type": "stream",
     "text": [
      "hi\n"
     ]
    }
   ],
   "source": [
    "print('hi')"
   ]
  },
  {
   "cell_type": "code",
   "execution_count": null,
   "id": "de139467",
   "metadata": {},
   "outputs": [],
   "source": []
  }
 ],
 "metadata": {
  "kernelspec": {
   "display_name": "Python 3 (ipykernel)",
   "language": "python",
   "name": "python3"
  },
  "language_info": {
   "codemirror_mode": {
    "name": "ipython",
    "version": 3
   },
   "file_extension": ".py",
   "mimetype": "text/x-python",
   "name": "python",
   "nbconvert_exporter": "python",
   "pygments_lexer": "ipython3",
   "version": "3.9.12"
  }
 },
 "nbformat": 4,
 "nbformat_minor": 5
}
